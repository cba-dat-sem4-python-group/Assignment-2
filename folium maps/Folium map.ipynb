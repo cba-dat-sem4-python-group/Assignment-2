{
 "cells": [
  {
   "cell_type": "code",
   "execution_count": null,
   "metadata": {},
   "outputs": [],
   "source": [
    "import json\n",
    "import requests\n",
    "import folium\n",
    "\n",
    "api_url = 'https://nominatim.openstreetmap.org/search'\n",
    "\n",
    "# requests json data from ( nominatim api )\n",
    "def get_locations(city):\n",
    "    response = requests.get(api_url, params={'format': 'json', 'city': city})\n",
    "    locations = response.json()\n",
    "    return locations\n",
    "\n",
    "# gets json data from ( nominatim )\n",
    "locations = get_locations('copenhagen')\n",
    "\n",
    "# creates a folium map\n",
    "folium_map = folium.Map()\n",
    "\n",
    "# adds markers at locations to the folium map\n",
    "for location in locations:\n",
    "\n",
    "    # creates marker\n",
    "    folium.Marker(\n",
    "        \n",
    "        # location longitude and latitude\n",
    "        [float(location['lat']), float(location['lon'])],\n",
    "        \n",
    "        # info in popup box (html)\n",
    "        popup = (\n",
    "            '<b>' + location['display_name'] + '</b>'\n",
    "            + '<br><br>'\n",
    "            + '<b>coordinates:</b> ' + location['lon'] + ', ' + location['lat']\n",
    "        )\n",
    "    \n",
    "    # adds marker to the folium map\n",
    "    ).add_to(folium_map)\n",
    "\n",
    "# saves folium map as html in current directory\n",
    "folium_map.save('./folium_map.html')\n",
    "\n",
    "# diplays folium map\n",
    "folium_map"
   ]
  }
 ],
 "metadata": {
  "kernelspec": {
   "display_name": "Python 3",
   "language": "python",
   "name": "python3"
  },
  "language_info": {
   "codemirror_mode": {
    "name": "ipython",
    "version": 3
   },
   "file_extension": ".py",
   "mimetype": "text/x-python",
   "name": "python",
   "nbconvert_exporter": "python",
   "pygments_lexer": "ipython3",
   "version": "3.7.1"
  }
 },
 "nbformat": 4,
 "nbformat_minor": 2
}
